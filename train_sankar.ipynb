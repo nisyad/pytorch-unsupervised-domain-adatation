{
 "cells": [
  {
   "cell_type": "code",
   "execution_count": 1,
   "metadata": {},
   "outputs": [],
   "source": [
    "import os\n",
    "import torch\n",
    "import torch.nn as nn\n",
    "import torch.optim as optim\n",
    "from torchvision import datasets, transforms\n",
    "\n",
    "import data_loader\n",
    "from models.sankar import *\n",
    "import utils"
   ]
  },
  {
   "cell_type": "code",
   "execution_count": 2,
   "metadata": {},
   "outputs": [
    {
     "data": {
      "text/plain": [
       "'/Users/nishant/Desktop/Spring 2021/NASA-Intern/Codes/nishant-trials'"
      ]
     },
     "execution_count": 2,
     "metadata": {},
     "output_type": "execute_result"
    }
   ],
   "source": [
    "os.getcwd()"
   ]
  },
  {
   "cell_type": "code",
   "execution_count": 12,
   "metadata": {},
   "outputs": [],
   "source": [
    "# Hyperparameters\n",
    "IMG_SIZE = 28\n",
    "BATCH_SIZE = 1024\n",
    "EPOCHS = 2\n",
    "LR = 2e-3\n",
    "\n",
    "N_CLASSES = 10\n",
    "NUM_FILTERS_DISC = 64\n",
    "NUM_FILTERS_GEN = 64\n",
    "Z_DIM = 512\n",
    "N_DIM = 2 * NUM_FILTERS_DISC\n",
    "\n",
    "ADV_WEIGHT = 0.1\n",
    "ALPHA = 0.3\n",
    "\n",
    "device = torch.device(\"cuda:0\" if torch.cuda.is_available() else \"cpu\")"
   ]
  },
  {
   "cell_type": "code",
   "execution_count": 13,
   "metadata": {},
   "outputs": [],
   "source": [
    "# MNIST\n",
    "transform_m = transforms.Compose(\n",
    "    [transforms.Resize(32), transforms.ToTensor(), transforms.Normalize((0.5,), (0.5,))]\n",
    ")\n",
    "\n",
    "trainset_m = datasets.MNIST(\n",
    "    \"./data/mnist\", train=True, download=False, transform=transform_m\n",
    ")\n",
    "trainloader_m = torch.utils.data.DataLoader(\n",
    "    trainset_m, batch_size=BATCH_SIZE, shuffle=True\n",
    ")\n",
    "\n",
    "testset_m = datasets.MNIST(\n",
    "    \"./data/mnist\", train=False, download=False, transform=transform_m\n",
    ")\n",
    "testloader_m = torch.utils.data.DataLoader(\n",
    "    testset_m, batch_size=BATCH_SIZE, shuffle=True\n",
    ")\n",
    "\n",
    "# MNIST-M\n",
    "transform_mm = transforms.Compose(\n",
    "    [transforms.Resize(32), transforms.Normalize((0.5, 0.5, 0.5), (0.5, 0.5, 0.5))]\n",
    ")\n",
    "\n",
    "DATA_DIR = \"data/mnist_m/processed/\"\n",
    "\n",
    "trainloader_mm = data_loader.fetch(\n",
    "    data_dir=os.path.join(DATA_DIR, \"mnist_m_train.pt\"),\n",
    "    batch_size=BATCH_SIZE,\n",
    "    shuffle=True,\n",
    "    transform=transform_mm,\n",
    ")\n",
    "\n",
    "testloader_mm = data_loader.fetch(\n",
    "    data_dir=os.path.join(DATA_DIR, \"mnist_m_test.pt\"),\n",
    "    batch_size=BATCH_SIZE,\n",
    "    shuffle=False,\n",
    "    transform=transform_mm,\n",
    ")"
   ]
  },
  {
   "cell_type": "code",
   "execution_count": 14,
   "metadata": {},
   "outputs": [
    {
     "data": {
      "text/plain": [
       "59"
      ]
     },
     "execution_count": 14,
     "metadata": {},
     "output_type": "execute_result"
    }
   ],
   "source": [
    "num_batches = min(len(trainloader_m), len(trainloader_mm)) # ~60000/batch_size\n",
    "num_batches"
   ]
  },
  {
   "cell_type": "code",
   "execution_count": 15,
   "metadata": {},
   "outputs": [],
   "source": [
    "net_G = Generator(N_DIM, Z_DIM, N_CLASSES, NUM_FILTERS_GEN).to(device)\n",
    "net_D = Discriminator(N_CLASSES, NUM_FILTERS_DISC).to(device)\n",
    "net_F = FeatureExtractor(NUM_FILTERS_DISC).to(device)\n",
    "net_C = ClassifierNet(NUM_FILTERS_DISC, N_CLASSES).to(device)"
   ]
  },
  {
   "cell_type": "code",
   "execution_count": 16,
   "metadata": {},
   "outputs": [
    {
     "data": {
      "text/plain": [
       "ClassifierNet(\n",
       "  (classifier): Sequential(\n",
       "    (0): Linear(in_features=128, out_features=128, bias=True)\n",
       "    (1): ReLU()\n",
       "    (2): Linear(in_features=128, out_features=10, bias=True)\n",
       "  )\n",
       ")"
      ]
     },
     "execution_count": 16,
     "metadata": {},
     "output_type": "execute_result"
    }
   ],
   "source": [
    "net_G.apply(utils.weights_init)\n",
    "net_D.apply(utils.weights_init)\n",
    "net_F.apply(utils.weights_init)\n",
    "net_C.apply(utils.weights_init)"
   ]
  },
  {
   "cell_type": "code",
   "execution_count": 17,
   "metadata": {},
   "outputs": [],
   "source": [
    "optimizer_D = optim.Adam(net_D.parameters(), lr=LR)\n",
    "optimizer_G = optim.Adam(net_G.parameters(), lr=LR)\n",
    "optimizer_F = optim.Adam(net_F.parameters(), lr=LR)\n",
    "optimizer_C = optim.Adam(net_C.parameters(), lr=LR)"
   ]
  },
  {
   "cell_type": "code",
   "execution_count": 18,
   "metadata": {},
   "outputs": [],
   "source": [
    "criterion_classifier = nn.CrossEntropyLoss()\n",
    "criterion_domain = nn.BCELoss()"
   ]
  },
  {
   "cell_type": "code",
   "execution_count": 19,
   "metadata": {},
   "outputs": [
    {
     "name": "stdout",
     "output_type": "stream",
     "text": [
      "torch.Size([1024])\n",
      "torch.Size([1024])\n"
     ]
    }
   ],
   "source": [
    "real_labels = torch.ones(BATCH_SIZE).to(device)\n",
    "fake_labels = torch.zeros(BATCH_SIZE).to(device)\n",
    "\n",
    "print(real_labels.shape)\n",
    "print(fake_labels.shape)"
   ]
  },
  {
   "cell_type": "code",
   "execution_count": 20,
   "metadata": {},
   "outputs": [
    {
     "name": "stdout",
     "output_type": "stream",
     "text": [
      "epoch: 1\n",
      "batch: 1\n"
     ]
    },
    {
     "ename": "KeyboardInterrupt",
     "evalue": "",
     "output_type": "error",
     "traceback": [
      "\u001b[0;31m---------------------------------------------------------------------------\u001b[0m",
      "\u001b[0;31mKeyboardInterrupt\u001b[0m                         Traceback (most recent call last)",
      "\u001b[0;32m<ipython-input-20-792b115fd497>\u001b[0m in \u001b[0;36m<module>\u001b[0;34m\u001b[0m\n\u001b[1;32m     62\u001b[0m         )\n\u001b[1;32m     63\u001b[0m \u001b[0;34m\u001b[0m\u001b[0m\n\u001b[0;32m---> 64\u001b[0;31m         \u001b[0mloss_D\u001b[0m\u001b[0;34m.\u001b[0m\u001b[0mbackward\u001b[0m\u001b[0;34m(\u001b[0m\u001b[0mretain_graph\u001b[0m\u001b[0;34m=\u001b[0m\u001b[0;32mTrue\u001b[0m\u001b[0;34m)\u001b[0m\u001b[0;34m\u001b[0m\u001b[0;34m\u001b[0m\u001b[0m\n\u001b[0m\u001b[1;32m     65\u001b[0m         \u001b[0moptimizer_D\u001b[0m\u001b[0;34m.\u001b[0m\u001b[0mstep\u001b[0m\u001b[0;34m(\u001b[0m\u001b[0;34m)\u001b[0m\u001b[0;34m\u001b[0m\u001b[0;34m\u001b[0m\u001b[0m\n\u001b[1;32m     66\u001b[0m \u001b[0;34m\u001b[0m\u001b[0m\n",
      "\u001b[0;32m~/opt/miniconda3/envs/ptenv/lib/python3.8/site-packages/torch/tensor.py\u001b[0m in \u001b[0;36mbackward\u001b[0;34m(self, gradient, retain_graph, create_graph)\u001b[0m\n\u001b[1;32m    219\u001b[0m                 \u001b[0mretain_graph\u001b[0m\u001b[0;34m=\u001b[0m\u001b[0mretain_graph\u001b[0m\u001b[0;34m,\u001b[0m\u001b[0;34m\u001b[0m\u001b[0;34m\u001b[0m\u001b[0m\n\u001b[1;32m    220\u001b[0m                 create_graph=create_graph)\n\u001b[0;32m--> 221\u001b[0;31m         \u001b[0mtorch\u001b[0m\u001b[0;34m.\u001b[0m\u001b[0mautograd\u001b[0m\u001b[0;34m.\u001b[0m\u001b[0mbackward\u001b[0m\u001b[0;34m(\u001b[0m\u001b[0mself\u001b[0m\u001b[0;34m,\u001b[0m \u001b[0mgradient\u001b[0m\u001b[0;34m,\u001b[0m \u001b[0mretain_graph\u001b[0m\u001b[0;34m,\u001b[0m \u001b[0mcreate_graph\u001b[0m\u001b[0;34m)\u001b[0m\u001b[0;34m\u001b[0m\u001b[0;34m\u001b[0m\u001b[0m\n\u001b[0m\u001b[1;32m    222\u001b[0m \u001b[0;34m\u001b[0m\u001b[0m\n\u001b[1;32m    223\u001b[0m     \u001b[0;32mdef\u001b[0m \u001b[0mregister_hook\u001b[0m\u001b[0;34m(\u001b[0m\u001b[0mself\u001b[0m\u001b[0;34m,\u001b[0m \u001b[0mhook\u001b[0m\u001b[0;34m)\u001b[0m\u001b[0;34m:\u001b[0m\u001b[0;34m\u001b[0m\u001b[0;34m\u001b[0m\u001b[0m\n",
      "\u001b[0;32m~/opt/miniconda3/envs/ptenv/lib/python3.8/site-packages/torch/autograd/__init__.py\u001b[0m in \u001b[0;36mbackward\u001b[0;34m(tensors, grad_tensors, retain_graph, create_graph, grad_variables)\u001b[0m\n\u001b[1;32m    128\u001b[0m         \u001b[0mretain_graph\u001b[0m \u001b[0;34m=\u001b[0m \u001b[0mcreate_graph\u001b[0m\u001b[0;34m\u001b[0m\u001b[0;34m\u001b[0m\u001b[0m\n\u001b[1;32m    129\u001b[0m \u001b[0;34m\u001b[0m\u001b[0m\n\u001b[0;32m--> 130\u001b[0;31m     Variable._execution_engine.run_backward(\n\u001b[0m\u001b[1;32m    131\u001b[0m         \u001b[0mtensors\u001b[0m\u001b[0;34m,\u001b[0m \u001b[0mgrad_tensors_\u001b[0m\u001b[0;34m,\u001b[0m \u001b[0mretain_graph\u001b[0m\u001b[0;34m,\u001b[0m \u001b[0mcreate_graph\u001b[0m\u001b[0;34m,\u001b[0m\u001b[0;34m\u001b[0m\u001b[0;34m\u001b[0m\u001b[0m\n\u001b[1;32m    132\u001b[0m         allow_unreachable=True)  # allow_unreachable flag\n",
      "\u001b[0;31mKeyboardInterrupt\u001b[0m: "
     ]
    }
   ],
   "source": [
    "torch.autograd.set_detect_anomaly(True)\n",
    "\n",
    "for epoch in range(EPOCHS):\n",
    "    print(f\"epoch: {epoch+1}\")\n",
    "\n",
    "    net_D.train()\n",
    "    net_G.train()\n",
    "    net_F.train()\n",
    "    net_C.train()\n",
    "\n",
    "    for i, (data_source, data_target) in enumerate(zip(trainloader_m, trainloader_mm)):\n",
    "        print(f\"batch: {i+1}\")\n",
    "\n",
    "        src_inputs, src_labels = data_source\n",
    "        tgt_inputs, _ = data_target\n",
    "\n",
    "        src_inputs = src_inputs.expand(src_inputs.shape[0], 3, 32, 32)\n",
    "\n",
    "        src_inputs, src_labels = src_inputs.to(device), src_labels.to(device)\n",
    "        tgt_inputs = tgt_inputs.to(device)\n",
    "\n",
    "        # Creating one-hot vectors\n",
    "        src_labels_onehot = torch.zeros(BATCH_SIZE, N_CLASSES + 1).to(device)\n",
    "        tgt_labels_onehot = torch.zeros(BATCH_SIZE, N_CLASSES + 1).to(device)\n",
    "\n",
    "        for num in range(BATCH_SIZE):\n",
    "            src_labels_onehot[num, int(src_labels[num])] = 1\n",
    "            tgt_labels_onehot[num, N_CLASSES] = 1\n",
    "\n",
    "        # Updating Discriminator net_D\n",
    "        net_D.zero_grad()\n",
    "        src_embeddings = net_F(src_inputs)  # [-1, 128]\n",
    "        src_noise = noise = torch.randn(BATCH_SIZE, Z_DIM)\n",
    "        src_concat = torch.cat((src_embeddings, src_labels_onehot, src_noise), 1)\n",
    "        src_gen = net_G(src_concat.detach())\n",
    "\n",
    "        tgt_embeddings = net_F(tgt_inputs)\n",
    "        tgt_noise = noise = torch.randn(BATCH_SIZE, Z_DIM)\n",
    "        tgt_concat = torch.cat((tgt_embeddings, src_labels_onehot, src_noise), 1)\n",
    "        tgt_gen = net_G(tgt_concat.detach())\n",
    "\n",
    "        src_D_domain_real, src_D_classes_real = net_D(src_inputs)\n",
    "\n",
    "        loss_src_D_domain_real = criterion_domain(src_D_domain_real, real_labels)\n",
    "        loss_src_D_classes_real = criterion_classifier(src_D_classes_real, src_labels)\n",
    "\n",
    "        src_D_domain_gen_fake, src_D_classes_gen_fake = net_D(src_gen.detach())\n",
    "        loss_src_D_domain_gen_fake = criterion_domain(\n",
    "            src_D_domain_gen_fake, fake_labels\n",
    "        )\n",
    "\n",
    "        tgt_D_domain_gen_fake, _ = net_D(tgt_gen.detach())\n",
    "        loss_tgt_D_domain_gen_fake = criterion_domain(\n",
    "            tgt_D_domain_gen_fake, fake_labels\n",
    "        )\n",
    "\n",
    "        loss_D = (\n",
    "            loss_src_D_domain_real\n",
    "            + loss_src_D_classes_real\n",
    "            + loss_src_D_domain_gen_fake\n",
    "            + loss_tgt_D_domain_gen_fake\n",
    "        )\n",
    "\n",
    "        loss_D.backward(retain_graph=True)\n",
    "        optimizer_D.step()\n",
    "\n",
    "        # Recompute net_D after gradient update\n",
    "        src_D_domain_gen_fake, src_D_classes_gen_fake = net_D(src_gen)\n",
    "        tgt_D_domain_gen_fake, _ = net_D(tgt_gen)\n",
    "\n",
    "        # Updating Generator net_G\n",
    "        net_G.zero_grad()\n",
    "\n",
    "        loss_G_domain = criterion_domain(src_D_domain_gen_fake, real_labels)\n",
    "        loss_G_classes = criterion_classifier(src_D_classes_gen_fake, src_labels)\n",
    "        loss_G = loss_G_domain + loss_G_classes\n",
    "\n",
    "        loss_G.backward(retain_graph=True)\n",
    "        #optimizer_G.step()\n",
    "\n",
    "        # Update Classifier net C\n",
    "        net_C.zero_grad()\n",
    "\n",
    "        output_C = net_C(src_embeddings)\n",
    "        loss_C = criterion_classifier(output_C, src_labels)\n",
    "\n",
    "        loss_C.backward(retain_graph=True)\n",
    "        #optimizer_C.step()\n",
    "\n",
    "        # Update Feature Extractor F\n",
    "        net_F.zero_grad()\n",
    "\n",
    "        loss_F_src = ADV_WEIGHT * criterion_classifier(\n",
    "            src_D_classes_gen_fake, src_labels\n",
    "        )\n",
    "        loss_F_tgt = (\n",
    "            ADV_WEIGHT * ALPHA * criterion_domain(tgt_D_domain_gen_fake, real_labels)\n",
    "        )\n",
    "\n",
    "        loss_F = loss_C + loss_F_src + loss_F_tgt\n",
    "        \n",
    "#         print(loss_F)\n",
    "\n",
    "        loss_F.backward()\n",
    "\n",
    "        optimizer_G.step()\n",
    "        optimizer_C.step()\n",
    "        optimizer_F.step()\n",
    "        \n",
    "        running_loss_total += loss_C\n",
    "\n",
    "        if i % 300 == 0:\n",
    "          print(f\"Epoch: {epoch}/{EPOCHS} Batch: {i}/{num_batches}\")\n",
    "          print(f\"Classifier Training Loss: {running_loss_total/batch}\")\n",
    "          \n",
    "\n",
    "\n",
    "    net.eval()\n",
    "    test_loss = 0 \n",
    "    accuracy = 0\n",
    "\n",
    "    with torch.no_grad():\n",
    "            net.eval()\n",
    "            for imgs, lbls in testloader_mm:\n",
    "                imgs, lbls = imgs.to(device), lbls.to(device)\n",
    "                #print(logits.shape,lbls.shape)\n",
    "                logits, _ = net_C(imgs, lamda)\n",
    "                #print(logits.shape)\n",
    "                #print(lbls.shape)\n",
    "                #lbls = lbls.view(*logits.shape)\n",
    "                #print(logits.shape,lbls.shape)\n",
    "                test_loss += criterion_l(logits, lbls)\n",
    "\n",
    "                #logits to probabilities using softmax\n",
    "                ps = torch.exp(logits) / (torch.sum(torch.exp(logits)))\n",
    "                top_p, top_class = ps.topk(1, dim=1)\n",
    "                #print(top_p.shape, top_class.shape)\n",
    "                equals = top_class == lbls.view(*top_class.shape)\n",
    "                #print(top_class,lbls.view(*top_class.shape))\n",
    "                accuracy += torch.mean(equals.float())\n",
    "\n",
    "    test_accuracy.append(accuracy / len(testloader_mm))\n",
    "    print(f\"Test accuracy: {accuracy / len(testloader_mm)}\")\n",
    "    print(\"\\n\")\n",
    "\n",
    "        \n",
    "        \n",
    "        "
   ]
  },
  {
   "cell_type": "code",
   "execution_count": null,
   "metadata": {},
   "outputs": [],
   "source": []
  },
  {
   "cell_type": "code",
   "execution_count": null,
   "metadata": {},
   "outputs": [],
   "source": []
  },
  {
   "cell_type": "code",
   "execution_count": null,
   "metadata": {},
   "outputs": [],
   "source": []
  },
  {
   "cell_type": "code",
   "execution_count": null,
   "metadata": {},
   "outputs": [],
   "source": []
  },
  {
   "cell_type": "code",
   "execution_count": 49,
   "metadata": {},
   "outputs": [],
   "source": [
    "# from torchviz import *\n",
    "\n",
    "# make_dot(y.mean(), params=dict(model.named_parameters()))"
   ]
  },
  {
   "cell_type": "code",
   "execution_count": null,
   "metadata": {},
   "outputs": [],
   "source": []
  },
  {
   "cell_type": "code",
   "execution_count": 53,
   "metadata": {},
   "outputs": [
    {
     "data": {
      "text/plain": [
       "dict_keys(['__header__', '__version__', '__globals__', 'data'])"
      ]
     },
     "execution_count": 53,
     "metadata": {},
     "output_type": "execute_result"
    }
   ],
   "source": [
    "# from scipy.io import loadmat\n",
    "# x = loadmat('data/USPS_all.mat')\n",
    "# x.keys()"
   ]
  },
  {
   "cell_type": "code",
   "execution_count": 57,
   "metadata": {},
   "outputs": [
    {
     "data": {
      "text/plain": [
       "(256, 1100, 10)"
      ]
     },
     "execution_count": 57,
     "metadata": {},
     "output_type": "execute_result"
    }
   ],
   "source": [
    "# x['data'].shape"
   ]
  },
  {
   "cell_type": "code",
   "execution_count": 99,
   "metadata": {},
   "outputs": [],
   "source": [
    "# y = x['data'][:,141,1].reshape(16,16)\n",
    "# y = y.T\n"
   ]
  },
  {
   "cell_type": "code",
   "execution_count": 100,
   "metadata": {},
   "outputs": [
    {
     "data": {
      "text/plain": [
       "<matplotlib.image.AxesImage at 0x7ff8f94560a0>"
      ]
     },
     "execution_count": 100,
     "metadata": {},
     "output_type": "execute_result"
    },
    {
     "data": {
      "image/png": "[encoded data removed]",
      "text/plain": [
       "<Figure size 432x288 with 1 Axes>"
      ]
     },
     "metadata": {
      "needs_background": "light"
     },
     "output_type": "display_data"
    }
   ],
   "source": [
    "# import matplotlib.pyplot as plt\n",
    "\n",
    "# plt.imshow(y)"
   ]
  },
  {
   "cell_type": "code",
   "execution_count": null,
   "metadata": {},
   "outputs": [],
   "source": []
  }
 ],
 "metadata": {
  "kernelspec": {
   "display_name": "Python 3",
   "language": "python",
   "name": "python3"
  },
  "language_info": {
   "codemirror_mode": {
    "name": "ipython",
    "version": 3
   },
   "file_extension": ".py",
   "mimetype": "text/x-python",
   "name": "python",
   "nbconvert_exporter": "python",
   "pygments_lexer": "ipython3",
   "version": "3.8.2"
  }
 },
 "nbformat": 4,
 "nbformat_minor": 4
}
