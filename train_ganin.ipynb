{
 "cells": [
  {
   "cell_type": "code",
   "execution_count": null,
   "metadata": {
    "id": "lCbtyJtYhka_"
   },
   "outputs": [],
   "source": [
    "import os\n",
    "os.chdir('/content/drive/MyDrive/Colab Notebooks/NASA_Transfer_Learning')\n",
    "\n",
    "\n",
    "import numpy as np\n",
    "import torch\n",
    "import torch.nn as nn\n",
    "import torch.optim as optim\n",
    "from torchvision import datasets, transforms\n",
    "\n",
    "import data_loader\n",
    "from models.ganin import GaninModel\n"
   ]
  },
  {
   "cell_type": "code",
   "execution_count": null,
   "metadata": {
    "id": "KhyykiwQgcjc"
   },
   "outputs": [],
   "source": [
    "# Hyperparameters\n",
    "IMG_SIZE = 28\n",
    "BATCH_SIZE = 64\n",
    "EPOCHS = 1\n",
    "LR = 2e-4"
   ]
  },
  {
   "cell_type": "code",
   "execution_count": null,
   "metadata": {
    "id": "VRZRaQuHgWvW"
   },
   "outputs": [],
   "source": [
    "# MNIST\n",
    "transform_m = transforms.Compose(\n",
    "    [transforms.ToTensor(),\n",
    "     transforms.Normalize((0.5, ), (0.5, ))])\n",
    "\n",
    "trainset_m = datasets.MNIST(\"./data/mnist\",\n",
    "                            train=True,\n",
    "                            download=False,\n",
    "                            transform=transform_m)\n",
    "trainloader_m = torch.utils.data.DataLoader(trainset_m,\n",
    "                                            batch_size=BATCH_SIZE,\n",
    "                                            shuffle=True)\n",
    "\n",
    "testset_m = datasets.MNIST(\"./data/mnist\",\n",
    "                           train=False,\n",
    "                           download=False,\n",
    "                           transform=transform_m)\n",
    "testloader_m = torch.utils.data.DataLoader(testset_m,\n",
    "                                           batch_size=BATCH_SIZE,\n",
    "                                           shuffle=True)\n",
    "\n",
    "# MNIST-M\n",
    "transform_mm = transforms.Compose(\n",
    "    [transforms.Normalize((0.5, 0.5, 0.5), (0.5, 0.5, 0.5))])\n",
    "\n",
    "DATA_DIR = \"data/mnist_m/processed/\"\n",
    "\n",
    "trainloader_mm = data_loader.fetch(\n",
    "    data_dir=os.path.join(DATA_DIR, 'mnist_m_train.pt'),\n",
    "    batch_size=BATCH_SIZE,\n",
    "    shuffle=True,\n",
    "    transform=transform_mm,\n",
    ")\n",
    "\n",
    "testloader_mm = data_loader.fetch(\n",
    "    data_dir=os.path.join(DATA_DIR, 'mnist_m_test.pt'),\n",
    "    batch_size=BATCH_SIZE,\n",
    "    shuffle=False,\n",
    "    transform=transform_mm,\n",
    ")\n",
    "\n",
    "device = torch.device(\"cuda:0\" if torch.cuda.is_available() else \"cpu\")\n",
    "net = GaninModel().to(device)\n",
    "\n",
    "criterion_l = nn.CrossEntropyLoss()\n",
    "criterion_d = nn.BCEWithLogitsLoss()\n",
    "optimizer = optim.Adam(net.parameters(), lr=LR)\n",
    "\n",
    "num_batches = min(len(trainloader_m), len(trainloader_mm)) # ~60000/batch_size\n"
   ]
  },
  {
   "cell_type": "code",
   "execution_count": null,
   "metadata": {
    "colab": {
     "base_uri": "https://localhost:8080/"
    },
    "executionInfo": {
     "elapsed": 471,
     "status": "ok",
     "timestamp": 1613538721811,
     "user": {
      "displayName": "Nishant Yadav",
      "photoUrl": "",
      "userId": "02529691709873630386"
     },
     "user_tz": 480
    },
    "id": "e5ho9dRaisl6",
    "outputId": "cd929eee-e2ae-4d48-b221-2ecd79649583"
   },
   "outputs": [
    {
     "data": {
      "text/plain": [
       "938"
      ]
     },
     "execution_count": 4,
     "metadata": {
      "tags": []
     },
     "output_type": "execute_result"
    }
   ],
   "source": [
    "num_batches"
   ]
  },
  {
   "cell_type": "code",
   "execution_count": null,
   "metadata": {
    "colab": {
     "base_uri": "https://localhost:8080/",
     "height": 409
    },
    "executionInfo": {
     "elapsed": 763,
     "status": "error",
     "timestamp": 1613538961224,
     "user": {
      "displayName": "Nishant Yadav",
      "photoUrl": "",
      "userId": "02529691709873630386"
     },
     "user_tz": 480
    },
    "id": "FirNI_6hjNHw",
    "outputId": "105ae6bf-c956-4444-f9bc-6ce93d843afa"
   },
   "outputs": [
    {
     "name": "stdout",
     "output_type": "stream",
     "text": [
      "Lamda: 0.0\n"
     ]
    },
    {
     "ename": "RuntimeError",
     "evalue": "ignored",
     "output_type": "error",
     "traceback": [
      "\u001b[0;31m---------------------------------------------------------------------------\u001b[0m",
      "\u001b[0;31mRuntimeError\u001b[0m                              Traceback (most recent call last)",
      "\u001b[0;32m<ipython-input-6-4dda8bd283ba>\u001b[0m in \u001b[0;36m<module>\u001b[0;34m()\u001b[0m\n\u001b[1;32m     39\u001b[0m \u001b[0;34m\u001b[0m\u001b[0m\n\u001b[1;32m     40\u001b[0m         \u001b[0mloss_total\u001b[0m \u001b[0;34m=\u001b[0m \u001b[0mloss_d\u001b[0m \u001b[0;34m+\u001b[0m \u001b[0mloss_l\u001b[0m\u001b[0;34m\u001b[0m\u001b[0;34m\u001b[0m\u001b[0m\n\u001b[0;32m---> 41\u001b[0;31m         \u001b[0mloss_total\u001b[0m\u001b[0;34m.\u001b[0m\u001b[0mbackward\u001b[0m\u001b[0;34m(\u001b[0m\u001b[0;34m)\u001b[0m\u001b[0;34m\u001b[0m\u001b[0;34m\u001b[0m\u001b[0m\n\u001b[0m\u001b[1;32m     42\u001b[0m         \u001b[0moptimizer\u001b[0m\u001b[0;34m.\u001b[0m\u001b[0mstep\u001b[0m\u001b[0;34m(\u001b[0m\u001b[0;34m)\u001b[0m\u001b[0;34m\u001b[0m\u001b[0;34m\u001b[0m\u001b[0m\n\u001b[1;32m     43\u001b[0m         \u001b[0;31m#scheduler.step()\u001b[0m\u001b[0;34m\u001b[0m\u001b[0;34m\u001b[0m\u001b[0;34m\u001b[0m\u001b[0m\n",
      "\u001b[0;32m/usr/local/lib/python3.6/dist-packages/torch/tensor.py\u001b[0m in \u001b[0;36mbackward\u001b[0;34m(self, gradient, retain_graph, create_graph)\u001b[0m\n\u001b[1;32m    219\u001b[0m                 \u001b[0mretain_graph\u001b[0m\u001b[0;34m=\u001b[0m\u001b[0mretain_graph\u001b[0m\u001b[0;34m,\u001b[0m\u001b[0;34m\u001b[0m\u001b[0;34m\u001b[0m\u001b[0m\n\u001b[1;32m    220\u001b[0m                 create_graph=create_graph)\n\u001b[0;32m--> 221\u001b[0;31m         \u001b[0mtorch\u001b[0m\u001b[0;34m.\u001b[0m\u001b[0mautograd\u001b[0m\u001b[0;34m.\u001b[0m\u001b[0mbackward\u001b[0m\u001b[0;34m(\u001b[0m\u001b[0mself\u001b[0m\u001b[0;34m,\u001b[0m \u001b[0mgradient\u001b[0m\u001b[0;34m,\u001b[0m \u001b[0mretain_graph\u001b[0m\u001b[0;34m,\u001b[0m \u001b[0mcreate_graph\u001b[0m\u001b[0;34m)\u001b[0m\u001b[0;34m\u001b[0m\u001b[0;34m\u001b[0m\u001b[0m\n\u001b[0m\u001b[1;32m    222\u001b[0m \u001b[0;34m\u001b[0m\u001b[0m\n\u001b[1;32m    223\u001b[0m     \u001b[0;32mdef\u001b[0m \u001b[0mregister_hook\u001b[0m\u001b[0;34m(\u001b[0m\u001b[0mself\u001b[0m\u001b[0;34m,\u001b[0m \u001b[0mhook\u001b[0m\u001b[0;34m)\u001b[0m\u001b[0;34m:\u001b[0m\u001b[0;34m\u001b[0m\u001b[0;34m\u001b[0m\u001b[0m\n",
      "\u001b[0;32m/usr/local/lib/python3.6/dist-packages/torch/autograd/__init__.py\u001b[0m in \u001b[0;36mbackward\u001b[0;34m(tensors, grad_tensors, retain_graph, create_graph, grad_variables)\u001b[0m\n\u001b[1;32m    130\u001b[0m     Variable._execution_engine.run_backward(\n\u001b[1;32m    131\u001b[0m         \u001b[0mtensors\u001b[0m\u001b[0;34m,\u001b[0m \u001b[0mgrad_tensors_\u001b[0m\u001b[0;34m,\u001b[0m \u001b[0mretain_graph\u001b[0m\u001b[0;34m,\u001b[0m \u001b[0mcreate_graph\u001b[0m\u001b[0;34m,\u001b[0m\u001b[0;34m\u001b[0m\u001b[0;34m\u001b[0m\u001b[0m\n\u001b[0;32m--> 132\u001b[0;31m         allow_unreachable=True)  # allow_unreachable flag\n\u001b[0m\u001b[1;32m    133\u001b[0m \u001b[0;34m\u001b[0m\u001b[0m\n\u001b[1;32m    134\u001b[0m \u001b[0;34m\u001b[0m\u001b[0m\n",
      "\u001b[0;31mRuntimeError\u001b[0m: function ReverseGradientLayerBackward returned an incorrect number of gradients (expected 2, got 1)"
     ]
    }
   ],
   "source": [
    "test_accuracy = []\n",
    "\n",
    "\n",
    "for epoch in range(EPOCHS):\n",
    "    \n",
    "    running_loss_total = 0\n",
    "    running_loss_l = 0\n",
    "    running_loss_d = 0\n",
    "\n",
    "    dataiter_mm = iter(trainloader_mm)\n",
    "    dataiter_m = iter(trainloader_m)\n",
    "    lamda = (2 / (1 + np.exp(-10 * ((epoch + 0.0) / EPOCHS)))) - 1\n",
    "    print(f\"Lamda: {lamda}\")\n",
    "\n",
    "    net.train()\n",
    "    for batch in range(1, num_batches+1):\n",
    "        loss_total = 0\n",
    "        loss_d = 0\n",
    "        loss_l = 0\n",
    "\n",
    "        optimizer.zero_grad()\n",
    "        #for source domain\n",
    "        imgs, lbls = dataiter_m.next()\n",
    "        imgs, lbls = imgs.to(device), lbls.to(device)\n",
    "        imgs = torch.cat((imgs, imgs, imgs), 1)\n",
    "        out_l, out_d = net(imgs, lamda)  # lambda==lambda\n",
    "        loss_l = criterion_l(out_l, lbls)\n",
    "        actual_d = torch.zeros(out_d.shape)\n",
    "        actual_d = actual_d.to(device)\n",
    "        loss_d = criterion_d(out_d, actual_d)\n",
    "\n",
    "        #for target domain\n",
    "        imgs, lbls = dataiter_mm.next()\n",
    "        imgs = imgs.to(device)\n",
    "        _, out_d = net(imgs, lamda)\n",
    "        actual_d = torch.ones(out_d.shape)\n",
    "        actual_d = actual_d.to(device)\n",
    "        loss_d += criterion_d(out_d, actual_d)\n",
    "\n",
    "        loss_total = loss_d + loss_l\n",
    "        loss_total.backward()\n",
    "        optimizer.step()\n",
    "        #scheduler.step()\n",
    "        running_loss_total += loss_total\n",
    "        running_loss_d += loss_d\n",
    "        running_loss_l += loss_l\n",
    "\n",
    "        if batch % 300 == 0:\n",
    "          print(f\"Epoch: {epoch}/{EPOCHS} Batch: {batch}/{num_batches}\")\n",
    "          print(f\"Total Loss: {running_loss_total/batch}\")\n",
    "          print(f\"Label Loss: {running_loss_l/batch}\")\n",
    "          print(f\"Domain Loss: {running_loss_d/batch}\")\n",
    "\n",
    "\n",
    "    net.eval()\n",
    "    test_loss = 0 \n",
    "    accuracy = 0\n",
    "\n",
    "    with torch.no_grad():\n",
    "            net.eval()\n",
    "            for imgs, lbls in testloader_mm:\n",
    "                imgs, lbls = imgs.to(device), lbls.to(device)\n",
    "                #print(logits.shape,lbls.shape)\n",
    "                logits, _ = net(imgs, lamda)\n",
    "                #print(logits.shape)\n",
    "                #print(lbls.shape)\n",
    "                #lbls = lbls.view(*logits.shape)\n",
    "                #print(logits.shape,lbls.shape)\n",
    "                test_loss += criterion_l(logits, lbls)\n",
    "\n",
    "                #logits to probabilities using softmax\n",
    "                ps = torch.exp(logits) / (torch.sum(torch.exp(logits)))\n",
    "                top_p, top_class = ps.topk(1, dim=1)\n",
    "                #print(top_p.shape, top_class.shape)\n",
    "                equals = top_class == lbls.view(*top_class.shape)\n",
    "                #print(top_class,lbls.view(*top_class.shape))\n",
    "                accuracy += torch.mean(equals.float())\n",
    "\n",
    "    test_accuracy.append(accuracy / len(testloader_mm))\n",
    "    print(f\"Test accuracy: {accuracy / len(testloader_mm)}\")\n",
    "    print(\"\\n\")\n"
   ]
  },
  {
   "cell_type": "code",
   "execution_count": null,
   "metadata": {
    "id": "KuZhcoiHGrPW"
   },
   "outputs": [],
   "source": [
    "# np.save('test_accuracy.npy', test_accuracy)"
   ]
  },
  {
   "cell_type": "code",
   "execution_count": null,
   "metadata": {
    "colab": {
     "base_uri": "https://localhost:8080/",
     "height": 279
    },
    "executionInfo": {
     "elapsed": 1985,
     "status": "ok",
     "timestamp": 1613538632857,
     "user": {
      "displayName": "Nishant Yadav",
      "photoUrl": "",
      "userId": "02529691709873630386"
     },
     "user_tz": 480
    },
    "id": "toJyq6WIKNcJ",
    "outputId": "c1304eb7-5d58-4a34-a0a5-fa46267f3f13"
   },
   "outputs": [
    {
     "data": {
      "image/png": "[encoded data removed]",
      "text/plain": [
       "<Figure size 432x288 with 1 Axes>"
      ]
     },
     "metadata": {
      "needs_background": "light",
      "tags": []
     },
     "output_type": "display_data"
    }
   ],
   "source": [
    "# import matplotlib.pyplot as plt\n",
    "\n",
    "# plt.plot(range(1,EPOCHS + 1),test_accuracy)\n",
    "# plt.xlabel('Epochs')\n",
    "# plt.ylabel('Test Accuracy')\n",
    "\n",
    "# #plt.savefig('test_accuracy.pdf')\n",
    "# plt.show()"
   ]
  }
 ],
 "metadata": {
  "accelerator": "GPU",
  "colab": {
   "authorship_tag": "ABX9TyPNC7Hyr/wb+1eD1/7hsJzr",
   "collapsed_sections": [],
   "mount_file_id": "1oTijRN4SDrBuGrMiI6gPX7WlZ97ubGQC",
   "name": "main.ipynb",
   "provenance": [],
   "toc_visible": true
  },
  "kernelspec": {
   "display_name": "Python 3",
   "language": "python",
   "name": "python3"
  },
  "language_info": {
   "codemirror_mode": {
    "name": "ipython",
    "version": 3
   },
   "file_extension": ".py",
   "mimetype": "text/x-python",
   "name": "python",
   "nbconvert_exporter": "python",
   "pygments_lexer": "ipython3",
   "version": "3.8.2"
  }
 },
 "nbformat": 4,
 "nbformat_minor": 4
}
